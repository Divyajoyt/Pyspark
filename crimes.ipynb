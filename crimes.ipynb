{
  "nbformat": 4,
  "nbformat_minor": 0,
  "metadata": {
    "colab": {
      "name": "PysparkPart2.ipynb",
      "provenance": [],
      "collapsed_sections": [],
      "authorship_tag": "ABX9TyOhpwpvuTeSlr2FxiK4xbGe",
      "include_colab_link": true
    },
    "kernelspec": {
      "name": "python3",
      "display_name": "Python 3"
    },
    "language_info": {
      "name": "python"
    }
  },
  "cells": [
    {
      "cell_type": "markdown",
      "metadata": {
        "id": "view-in-github",
        "colab_type": "text"
      },
      "source": [
        "<a href=\"https://colab.research.google.com/github/Divyajoyt/Pyspark/blob/main/crimes.ipynb\" target=\"_parent\"><img src=\"https://colab.research.google.com/assets/colab-badge.svg\" alt=\"Open In Colab\"/></a>"
      ]
    },
    {
      "cell_type": "code",
      "metadata": {
        "colab": {
          "base_uri": "https://localhost:8080/",
          "height": 618
        },
        "id": "cisalIDoAPu9",
        "outputId": "615399c8-add2-4f0e-b4f3-07a39f44d963"
      },
      "source": [
        "!apt-get update\n",
        "!apt-get install openjdk-8-jdk-headless -qq > /dev/null\n",
        "!wget -q http://archive.apache.org/dist/spark/spark-2.3.1/spark-2.3.1-bin-hadoop2.7.tgz\n",
        "!tar xf spark-2.3.1-bin-hadoop2.7.tgz\n",
        "!pip install -q findspark\n",
        "\n",
        "import os\n",
        "os.environ[\"JAVA_HOME\"] = \"/usr/lib/jvm/java-8-openjdk-amd64\"\n",
        "os.environ[\"SPARK_HOME\"] = \"/content/spark-2.3.1-bin-hadoop2.7\"\n",
        "\n",
        "!ls\n",
        "\n",
        "import findspark\n",
        "findspark.init()\n",
        "\n",
        "import pyspark\n",
        "from pyspark.sql import SparkSession\n",
        "spark = SparkSession.builder.getOrCreate() \n",
        "spark"
      ],
      "execution_count": 1,
      "outputs": [
        {
          "output_type": "stream",
          "name": "stdout",
          "text": [
            "Get:1 https://cloud.r-project.org/bin/linux/ubuntu bionic-cran40/ InRelease [3,626 B]\n",
            "Ign:2 https://developer.download.nvidia.com/compute/cuda/repos/ubuntu1804/x86_64  InRelease\n",
            "Get:3 http://security.ubuntu.com/ubuntu bionic-security InRelease [88.7 kB]\n",
            "Get:4 https://cloud.r-project.org/bin/linux/ubuntu bionic-cran40/ Packages [67.0 kB]\n",
            "Ign:5 https://developer.download.nvidia.com/compute/machine-learning/repos/ubuntu1804/x86_64  InRelease\n",
            "Hit:6 https://developer.download.nvidia.com/compute/cuda/repos/ubuntu1804/x86_64  Release\n",
            "Hit:7 http://ppa.launchpad.net/c2d4u.team/c2d4u4.0+/ubuntu bionic InRelease\n",
            "Hit:8 https://developer.download.nvidia.com/compute/machine-learning/repos/ubuntu1804/x86_64  Release\n",
            "Hit:10 http://archive.ubuntu.com/ubuntu bionic InRelease\n",
            "Hit:11 http://ppa.launchpad.net/cran/libgit2/ubuntu bionic InRelease\n",
            "Get:12 http://archive.ubuntu.com/ubuntu bionic-updates InRelease [88.7 kB]\n",
            "Hit:14 http://ppa.launchpad.net/deadsnakes/ppa/ubuntu bionic InRelease\n",
            "Get:15 http://security.ubuntu.com/ubuntu bionic-security/main amd64 Packages [2,295 kB]\n",
            "Get:16 http://archive.ubuntu.com/ubuntu bionic-backports InRelease [74.6 kB]\n",
            "Get:17 http://ppa.launchpad.net/graphics-drivers/ppa/ubuntu bionic InRelease [21.3 kB]\n",
            "Get:18 http://archive.ubuntu.com/ubuntu bionic-updates/universe amd64 Packages [2,200 kB]\n",
            "Get:19 http://security.ubuntu.com/ubuntu bionic-security/universe amd64 Packages [1,426 kB]\n",
            "Get:20 http://ppa.launchpad.net/graphics-drivers/ppa/ubuntu bionic/main amd64 Packages [41.6 kB]\n",
            "Get:21 http://archive.ubuntu.com/ubuntu bionic-updates/main amd64 Packages [2,731 kB]\n",
            "Fetched 9,038 kB in 4s (2,151 kB/s)\n",
            "Reading package lists... Done\n",
            "crimes.csv   spark-2.3.1-bin-hadoop2.7\n",
            "sample_data  spark-2.3.1-bin-hadoop2.7.tgz\n"
          ]
        },
        {
          "output_type": "execute_result",
          "data": {
            "text/html": [
              "\n",
              "            <div>\n",
              "                <p><b>SparkSession - in-memory</b></p>\n",
              "                \n",
              "        <div>\n",
              "            <p><b>SparkContext</b></p>\n",
              "\n",
              "            <p><a href=\"http://74d4ff4377da:4040\">Spark UI</a></p>\n",
              "\n",
              "            <dl>\n",
              "              <dt>Version</dt>\n",
              "                <dd><code>v2.3.1</code></dd>\n",
              "              <dt>Master</dt>\n",
              "                <dd><code>local[*]</code></dd>\n",
              "              <dt>AppName</dt>\n",
              "                <dd><code>pyspark-shell</code></dd>\n",
              "            </dl>\n",
              "        </div>\n",
              "        \n",
              "            </div>\n",
              "        "
            ],
            "text/plain": [
              "<pyspark.sql.session.SparkSession at 0x7fed46ab5090>"
            ]
          },
          "metadata": {},
          "execution_count": 1
        }
      ]
    },
    {
      "cell_type": "code",
      "metadata": {
        "colab": {
          "base_uri": "https://localhost:8080/"
        },
        "id": "yz77VLnXAlI4",
        "outputId": "c81fbdd7-eeb1-4339-bf1b-57125dca8cb1"
      },
      "source": [
        "mydata = spark.read.format(\"csv\").option(\"header\",\"true\").load(\"crimes.csv\")\n",
        "mydata.show()"
      ],
      "execution_count": 3,
      "outputs": [
        {
          "output_type": "stream",
          "name": "stdout",
          "text": [
            "+--------+---------+--------------------+----+-------------------+--------------------+--------------------+------+--------+----+--------+----+-------------+-------+-----------+-----------+----+---------+---------+----------+-------------+\n",
            "|      ID|     Date|               Block|IUCR|        PrimaryType|         Description| LocationDescription|Arrest|Domestic|Beat|District|Ward|CommunityArea|FBICode|XCoordinate|YCoordinate|Year|UpdatedOn| Latitude| Longitude|     Location|\n",
            "+--------+---------+--------------------+----+-------------------+--------------------+--------------------+------+--------+----+--------+----+-------------+-------+-----------+-----------+----+---------+---------+----------+-------------+\n",
            "|11094370|18-Jun-21|072XX N CALIFORNI...|1122| DECEPTIVE PRACTICE|   COUNTERFEIT CHECK|   CURRENCY EXCHANGE|  TRUE|   FALSE|2411|      24|  50|            2|     10|    1156443|    1947707|2021|18-Jun-21|42.012293|-87.699714|   CALIFORNIA|\n",
            "|11118031|23-Mar-21|   055XX W GRAND AVE|1345|    CRIMINAL DAMAGE|TO CITY OF CHICAG...|JAIL / LOCK-UP FA...|  TRUE|   FALSE|2515|      25|  29|           19|     14|    1138788|    1913480|2021|23-Mar-21|41.918712|-87.765511|      CHICAGO|\n",
            "|11134189|11-Feb-21|  043XX S TALMAN AVE|4651|      OTHER OFFENSE|SEX OFFENDER: FAI...|           RESIDENCE|  TRUE|   FALSE| 922|       9|  12|           58|     26|    1159425|    1875711|2021|11-Feb-21| 41.81467|-87.690727|      BELMONT|\n",
            "|11156462|15-Aug-21| 055XX W BELMONT AVE|1110| DECEPTIVE PRACTICE|         BOGUS CHECK|   CURRENCY EXCHANGE|  TRUE|   FALSE|2514|      25|  30|           19|     11|    1138653|    1920720|2021|15-Aug-21|41.938581|-87.765831|SAN FRANCISCO|\n",
            "|11164874|01-Jan-21| 022XX W CHICAGO AVE| 265|CRIM SEXUAL ASSAULT|   AGGRAVATED: OTHER|           RESIDENCE|  TRUE|   FALSE|1221|      12|  67|           24|      2|    1161264|    1905292|2021|01-Jan-21|41.895805|-87.683159|    SAN DIEGO|\n",
            "|12346760|06-Mar-21| 055XX W BELMONT AVE| 457|             MURDER|              MURDER|           CITY HALL|  TRUE|   FALSE|3456|      56|  45|            4|     67|    1138653|    1920720|2021|06-Mar-21|41.918712|-87.765511|        MIAMI|\n",
            "|45789000|09-Apr-21| 022XX W CHICAGO AVE| 768|          VANDALISM|           VANDALISM|           RESIDENCE|  TRUE|   FALSE|2345|      23|  32|            7|     21|    1161264|    1905292|2021|09-Apr-21| 41.81467|-87.690727|   CALIFORNIA|\n",
            "+--------+---------+--------------------+----+-------------------+--------------------+--------------------+------+--------+----+--------+----+-------------+-------+-----------+-----------+----+---------+---------+----------+-------------+\n",
            "\n"
          ]
        }
      ]
    },
    {
      "cell_type": "code",
      "metadata": {
        "id": "BAsHZzoHBBFO"
      },
      "source": [
        "from pyspark.sql.types import *\n",
        "myschema = StructType([\n",
        "                       StructField('ID', IntegerType()),\n",
        "                       StructField('Date', StringType()),\n",
        "                       StructField('Block', StringType()),\n",
        "                       StructField('IUCR', IntegerType()),\n",
        "                       StructField('Primary Type', StringType()),\n",
        "                       StructField('Description', StringType()),\n",
        "                       StructField('LocationDescription', StringType()),\n",
        "                       StructField('Arrest', StringType()),\n",
        "                       StructField('Domestic', StringType()),\n",
        "                       StructField('Beat', IntegerType()),\n",
        "                       StructField('District', IntegerType()),\n",
        "                       StructField('Ward', IntegerType()),\n",
        "                       StructField('Community', IntegerType()),\n",
        "                       StructField('FBICode', IntegerType()),\n",
        "                       StructField('XCoordinate', FloatType()),\n",
        "                       StructField('YCoordinate', FloatType()),\n",
        "                       StructField('Year', IntegerType()),\n",
        "                       StructField('UpdatedOn', StringType()),\n",
        "                       StructField('Latitude', FloatType()),\n",
        "                       StructField('Longitude', FloatType()),\n",
        "                       StructField('Location', StringType()),\n",
        "])\n"
      ],
      "execution_count": 6,
      "outputs": []
    },
    {
      "cell_type": "code",
      "metadata": {
        "colab": {
          "base_uri": "https://localhost:8080/"
        },
        "id": "603gsKKfZMfr",
        "outputId": "cba71906-45ac-4098-c914-4b945e77d794"
      },
      "source": [
        "df = spark.read.csv(\"crimes.csv\", header=True, schema=myschema)\n",
        "df.show()"
      ],
      "execution_count": 8,
      "outputs": [
        {
          "output_type": "stream",
          "name": "stdout",
          "text": [
            "+--------+---------+--------------------+----+-------------------+--------------------+--------------------+------+--------+----+--------+----+---------+-------+-----------+-----------+----+---------+---------+----------+-------------+\n",
            "|      ID|     Date|               Block|IUCR|       Primary Type|         Description| LocationDescription|Arrest|Domestic|Beat|District|Ward|Community|FBICode|XCoordinate|YCoordinate|Year|UpdatedOn| Latitude| Longitude|     Location|\n",
            "+--------+---------+--------------------+----+-------------------+--------------------+--------------------+------+--------+----+--------+----+---------+-------+-----------+-----------+----+---------+---------+----------+-------------+\n",
            "|11094370|18-Jun-21|072XX N CALIFORNI...|1122| DECEPTIVE PRACTICE|   COUNTERFEIT CHECK|   CURRENCY EXCHANGE|  TRUE|   FALSE|2411|      24|  50|        2|     10|  1156443.0|  1947707.0|2021|18-Jun-21|42.012295|-87.699715|   CALIFORNIA|\n",
            "|11118031|23-Mar-21|   055XX W GRAND AVE|1345|    CRIMINAL DAMAGE|TO CITY OF CHICAG...|JAIL / LOCK-UP FA...|  TRUE|   FALSE|2515|      25|  29|       19|     14|  1138788.0|  1913480.0|2021|23-Mar-21|41.918713| -87.76551|      CHICAGO|\n",
            "|11134189|11-Feb-21|  043XX S TALMAN AVE|4651|      OTHER OFFENSE|SEX OFFENDER: FAI...|           RESIDENCE|  TRUE|   FALSE| 922|       9|  12|       58|     26|  1159425.0|  1875711.0|2021|11-Feb-21| 41.81467| -87.69073|      BELMONT|\n",
            "|11156462|15-Aug-21| 055XX W BELMONT AVE|1110| DECEPTIVE PRACTICE|         BOGUS CHECK|   CURRENCY EXCHANGE|  TRUE|   FALSE|2514|      25|  30|       19|     11|  1138653.0|  1920720.0|2021|15-Aug-21| 41.93858| -87.76583|SAN FRANCISCO|\n",
            "|11164874|01-Jan-21| 022XX W CHICAGO AVE| 265|CRIM SEXUAL ASSAULT|   AGGRAVATED: OTHER|           RESIDENCE|  TRUE|   FALSE|1221|      12|  67|       24|      2|  1161264.0|  1905292.0|2021|01-Jan-21|41.895805| -87.68316|    SAN DIEGO|\n",
            "|12346760|06-Mar-21| 055XX W BELMONT AVE| 457|             MURDER|              MURDER|           CITY HALL|  TRUE|   FALSE|3456|      56|  45|        4|     67|  1138653.0|  1920720.0|2021|06-Mar-21|41.918713| -87.76551|        MIAMI|\n",
            "|45789000|09-Apr-21| 022XX W CHICAGO AVE| 768|          VANDALISM|           VANDALISM|           RESIDENCE|  TRUE|   FALSE|2345|      23|  32|        7|     21|  1161264.0|  1905292.0|2021|09-Apr-21| 41.81467| -87.69073|   CALIFORNIA|\n",
            "+--------+---------+--------------------+----+-------------------+--------------------+--------------------+------+--------+----+--------+----+---------+-------+-----------+-----------+----+---------+---------+----------+-------------+\n",
            "\n"
          ]
        }
      ]
    },
    {
      "cell_type": "code",
      "metadata": {
        "colab": {
          "base_uri": "https://localhost:8080/"
        },
        "id": "VO2Y_ot_ZbyX",
        "outputId": "560ca0cd-409c-4e55-fa41-266e591d3275"
      },
      "source": [
        "df.registerTempTable(\"crimes\")\n",
        "\n",
        "query1 = spark.sql(\"select * from crimes where LocationDescription='RESIDENCE' order by IUCR desc\")\n",
        "query1.show()"
      ],
      "execution_count": 13,
      "outputs": [
        {
          "output_type": "stream",
          "name": "stdout",
          "text": [
            "+--------+---------+-------------------+----+-------------------+--------------------+-------------------+------+--------+----+--------+----+---------+-------+-----------+-----------+----+---------+---------+---------+----------+\n",
            "|      ID|     Date|              Block|IUCR|       Primary Type|         Description|LocationDescription|Arrest|Domestic|Beat|District|Ward|Community|FBICode|XCoordinate|YCoordinate|Year|UpdatedOn| Latitude|Longitude|  Location|\n",
            "+--------+---------+-------------------+----+-------------------+--------------------+-------------------+------+--------+----+--------+----+---------+-------+-----------+-----------+----+---------+---------+---------+----------+\n",
            "|11134189|11-Feb-21| 043XX S TALMAN AVE|4651|      OTHER OFFENSE|SEX OFFENDER: FAI...|          RESIDENCE|  TRUE|   FALSE| 922|       9|  12|       58|     26|  1159425.0|  1875711.0|2021|11-Feb-21| 41.81467|-87.69073|   BELMONT|\n",
            "|45789000|09-Apr-21|022XX W CHICAGO AVE| 768|          VANDALISM|           VANDALISM|          RESIDENCE|  TRUE|   FALSE|2345|      23|  32|        7|     21|  1161264.0|  1905292.0|2021|09-Apr-21| 41.81467|-87.69073|CALIFORNIA|\n",
            "|11164874|01-Jan-21|022XX W CHICAGO AVE| 265|CRIM SEXUAL ASSAULT|   AGGRAVATED: OTHER|          RESIDENCE|  TRUE|   FALSE|1221|      12|  67|       24|      2|  1161264.0|  1905292.0|2021|01-Jan-21|41.895805|-87.68316| SAN DIEGO|\n",
            "+--------+---------+-------------------+----+-------------------+--------------------+-------------------+------+--------+----+--------+----+---------+-------+-----------+-----------+----+---------+---------+---------+----------+\n",
            "\n"
          ]
        }
      ]
    },
    {
      "cell_type": "code",
      "metadata": {
        "id": "HaJ4uYYcZvti"
      },
      "source": [
        "df.write.json('CrimesOutput.json', compression='gzip', mode='overwrite')"
      ],
      "execution_count": 21,
      "outputs": []
    },
    {
      "cell_type": "code",
      "metadata": {
        "id": "hKcoEo-_b6yq"
      },
      "source": [
        ""
      ],
      "execution_count": null,
      "outputs": []
    }
  ]
}